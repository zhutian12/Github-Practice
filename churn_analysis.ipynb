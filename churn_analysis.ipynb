{
  "nbformat": 4,
  "nbformat_minor": 0,
  "metadata": {
    "colab": {
      "name": "churn_analysis.ipynb",
      "provenance": [],
      "authorship_tag": "ABX9TyOWZaVVlu5YCuhwaEJywxho",
      "include_colab_link": true
    },
    "kernelspec": {
      "name": "python3",
      "display_name": "Python 3"
    }
  },
  "cells": [
    {
      "cell_type": "markdown",
      "metadata": {
        "id": "view-in-github",
        "colab_type": "text"
      },
      "source": [
        "<a href=\"https://colab.research.google.com/github/zhutian12/Python_Project/blob/master/churn_analysis.ipynb\" target=\"_parent\"><img src=\"https://colab.research.google.com/assets/colab-badge.svg\" alt=\"Open In Colab\"/></a>"
      ]
    },
    {
      "cell_type": "markdown",
      "metadata": {
        "id": "AThNpDoUvGJT",
        "colab_type": "text"
      },
      "source": [
        "#Telecom Churn Analysis\n"
      ]
    },
    {
      "cell_type": "code",
      "metadata": {
        "id": "_6zuHKneLAOT",
        "colab_type": "code",
        "colab": {}
      },
      "source": [
        "import numpy as np\n",
        "import pandas as pd\n",
        "import seaborn as sns\n",
        "import matplotlib.pyplot as plt"
      ],
      "execution_count": 6,
      "outputs": []
    },
    {
      "cell_type": "code",
      "metadata": {
        "id": "NAkrHqiFLISQ",
        "colab_type": "code",
        "colab": {}
      },
      "source": [
        "#https://drive.google.com/file/d/1WJozKuIy8vQz9YZOgbbXBWegcPcs-KOy/view?usp=sharing\n",
        "file_id='1WJozKuIy8vQz9YZOgbbXBWegcPcs-KOy'\n",
        "link='http://drive.google.com/uc?export=download&id={FILE_ID}'\n",
        "csv_url = link.format(FILE_ID = file_id)\n",
        "churn_df = pd.read_csv(csv_url)\n",
        "\n"
      ],
      "execution_count": 7,
      "outputs": []
    },
    {
      "cell_type": "code",
      "metadata": {
        "id": "MyJaZcwhRUMI",
        "colab_type": "code",
        "colab": {
          "base_uri": "https://localhost:8080/",
          "height": 255
        },
        "outputId": "469fe4bc-15d7-43a7-e108-ccf08532fe21"
      },
      "source": [
        "print(churn_df)"
      ],
      "execution_count": 8,
      "outputs": [
        {
          "output_type": "stream",
          "text": [
            "     State  Account length  ...  Customer service calls  Churn\n",
            "0       KS             128  ...                       1  False\n",
            "1       OH             107  ...                       1  False\n",
            "2       NJ             137  ...                       0  False\n",
            "3       OH              84  ...                       2  False\n",
            "4       OK              75  ...                       3  False\n",
            "...    ...             ...  ...                     ...    ...\n",
            "2661    SC              79  ...                       2  False\n",
            "2662    AZ             192  ...                       2  False\n",
            "2663    WV              68  ...                       3  False\n",
            "2664    RI              28  ...                       2  False\n",
            "2665    TN              74  ...                       0  False\n",
            "\n",
            "[2666 rows x 20 columns]\n"
          ],
          "name": "stdout"
        }
      ]
    },
    {
      "cell_type": "code",
      "metadata": {
        "id": "_A600iebRX-9",
        "colab_type": "code",
        "colab": {}
      },
      "source": [
        "#get target variable\n",
        "y = churn_df['Churn']"
      ],
      "execution_count": 9,
      "outputs": []
    },
    {
      "cell_type": "code",
      "metadata": {
        "id": "K_EgwA_PReiE",
        "colab_type": "code",
        "colab": {
          "base_uri": "https://localhost:8080/",
          "height": 952
        },
        "outputId": "d026a26c-2ec1-4603-d3bd-5e3de8785749"
      },
      "source": [
        "churn_df.describe\n",
        "churn_df.dtypes\n",
        "#check the proportion that Churn equal to True\n",
        "print(y.sum()/y.shape[0]*100)\n",
        "print(y.sum())\n",
        "churn_df[churn_df.Churn == True].groupby('State').count()['Churn']"
      ],
      "execution_count": 10,
      "outputs": [
        {
          "output_type": "stream",
          "text": [
            "14.553638409602401\n",
            "388\n"
          ],
          "name": "stdout"
        },
        {
          "output_type": "execute_result",
          "data": {
            "text/plain": [
              "State\n",
              "AK     3\n",
              "AL     7\n",
              "AR    11\n",
              "AZ     3\n",
              "CA     5\n",
              "CO     7\n",
              "CT    11\n",
              "DC     5\n",
              "DE     8\n",
              "FL     7\n",
              "GA     8\n",
              "HI     2\n",
              "IA     3\n",
              "ID     5\n",
              "IL     4\n",
              "IN     6\n",
              "KS    10\n",
              "KY     6\n",
              "LA     3\n",
              "MA     8\n",
              "MD    14\n",
              "ME    11\n",
              "MI    13\n",
              "MN    13\n",
              "MO     5\n",
              "MS    11\n",
              "MT    10\n",
              "NC     9\n",
              "ND     4\n",
              "NE     4\n",
              "NH     9\n",
              "NJ    14\n",
              "NM     4\n",
              "NV    13\n",
              "NY    12\n",
              "OH    10\n",
              "OK     7\n",
              "OR     7\n",
              "PA     8\n",
              "RI     3\n",
              "SC    11\n",
              "SD     6\n",
              "TN     5\n",
              "TX    16\n",
              "UT     8\n",
              "VA     4\n",
              "VT     6\n",
              "WA    10\n",
              "WI     4\n",
              "WV     7\n",
              "WY     8\n",
              "Name: Churn, dtype: int64"
            ]
          },
          "metadata": {
            "tags": []
          },
          "execution_count": 10
        }
      ]
    },
    {
      "cell_type": "code",
      "metadata": {
        "id": "2Pu1i6FNSJyy",
        "colab_type": "code",
        "colab": {
          "base_uri": "https://localhost:8080/",
          "height": 623
        },
        "outputId": "bd743a57-93db-480c-a70a-56b6d8b8fee9"
      },
      "source": [
        "_,axss = plt.subplots(4,3, figsize=[20,10])#People who answer True have higher \"Total day/eve/night/intl mins\" and \"Total day/eve/night/intl charges\"\n",
        "sns.boxplot(x = 'Churn',y='Total day minutes',data = churn_df,ax=axss[0][0])\n",
        "sns.boxplot(x = 'Churn',y='Total day calls',data = churn_df,ax=axss[0][1])\n",
        "sns.boxplot(x = 'Churn',y='Total day charge',data = churn_df,ax=axss[0][2])\n",
        "sns.boxplot(x = 'Churn',y='Total eve minutes',data = churn_df,ax=axss[1][0])\n",
        "sns.boxplot(x = 'Churn',y='Total eve calls',data = churn_df,ax=axss[1][1])\n",
        "sns.boxplot(x = 'Churn',y='Total eve charge',data = churn_df,ax=axss[1][2])\n",
        "sns.boxplot(x = 'Churn',y='Total night minutes',data = churn_df,ax=axss[2][0])\n",
        "sns.boxplot(x = 'Churn',y='Total night calls',data = churn_df,ax=axss[2][1])\n",
        "sns.boxplot(x = 'Churn',y='Total night charge',data = churn_df,ax=axss[2][2])\n",
        "sns.boxplot(x = 'Churn',y='Total intl minutes',data = churn_df,ax=axss[3][0])\n",
        "sns.boxplot(x = 'Churn',y='Total intl calls',data = churn_df,ax=axss[3][1])\n",
        "sns.boxplot(x = 'Churn',y='Total intl charge',data = churn_df,ax=axss[3][2])"
      ],
      "execution_count": 11,
      "outputs": [
        {
          "output_type": "execute_result",
          "data": {
            "text/plain": [
              "<matplotlib.axes._subplots.AxesSubplot at 0x7f28d624d048>"
            ]
          },
          "metadata": {
            "tags": []
          },
          "execution_count": 11
        },
        {
          "output_type": "display_data",
          "data": {
            "image/png": "[encoded data removed]",
            "text/plain": [
              "<Figure size 1440x720 with 12 Axes>"
            ]
          },
          "metadata": {
            "tags": [],
            "needs_background": "light"
          }
        }
      ]
    },
    {
      "cell_type": "code",
      "metadata": {
        "id": "NyyTQqGVZ_NL",
        "colab_type": "code",
        "colab": {
          "base_uri": "https://localhost:8080/",
          "height": 623
        },
        "outputId": "a0f77f60-e2b4-456b-9418-d9c675485653"
      },
      "source": [
        "#understand categorical graph: State, International plan, Voice mail plan\n",
        "_,axss = plt.subplots(1,2,figsize = [20,10])\n",
        "#sns.countplot(x = 'Churn',hue='State',data = churn_df,ax=axss[0][0])\n",
        "sns.countplot(x='Churn',hue='International plan',data = churn_df,ax=axss[0])\n",
        "sns.countplot(x = 'Churn',hue='Voice mail plan',data = churn_df, ax=axss[1])"
      ],
      "execution_count": 12,
      "outputs": [
        {
          "output_type": "execute_result",
          "data": {
            "text/plain": [
              "<matplotlib.axes._subplots.AxesSubplot at 0x7f28d5b066d8>"
            ]
          },
          "metadata": {
            "tags": []
          },
          "execution_count": 12
        },
        {
          "output_type": "display_data",
          "data": {
            "image/png": "[encoded data removed]",
            "text/plain": [
              "<Figure size 1440x720 with 2 Axes>"
            ]
          },
          "metadata": {
            "tags": [],
            "needs_background": "light"
          }
        }
      ]
    },
    {
      "cell_type": "code",
      "metadata": {
        "id": "MiKbupzudeY3",
        "colab_type": "code",
        "colab": {
          "base_uri": "https://localhost:8080/",
          "height": 997
        },
        "outputId": "07db2b56-a2af-4f3c-b7c7-e031d4534bdb"
      },
      "source": [
        "#Correlation between each variable\n",
        "corr_score=churn_df.loc[:,'Total day minutes':'Total intl charge'].corr()\n",
        "sns.heatmap(corr_score)\n",
        "corr_score#we find minutes variable has a perfect positive correlation with charges variable\n"
      ],
      "execution_count": 13,
      "outputs": [
        {
          "output_type": "execute_result",
          "data": {
            "text/html": [
              "<div>\n",
              "<style scoped>\n",
              "    .dataframe tbody tr th:only-of-type {\n",
              "        vertical-align: middle;\n",
              "    }\n",
              "\n",
              "    .dataframe tbody tr th {\n",
              "        vertical-align: top;\n",
              "    }\n",
              "\n",
              "    .dataframe thead th {\n",
              "        text-align: right;\n",
              "    }\n",
              "</style>\n",
              "<table border=\"1\" class=\"dataframe\">\n",
              "  <thead>\n",
              "    <tr style=\"text-align: right;\">\n",
              "      <th></th>\n",
              "      <th>Total day minutes</th>\n",
              "      <th>Total day calls</th>\n",
              "      <th>Total day charge</th>\n",
              "      <th>Total eve minutes</th>\n",
              "      <th>Total eve calls</th>\n",
              "      <th>Total eve charge</th>\n",
              "      <th>Total night minutes</th>\n",
              "      <th>Total night calls</th>\n",
              "      <th>Total night charge</th>\n",
              "      <th>Total intl minutes</th>\n",
              "      <th>Total intl calls</th>\n",
              "      <th>Total intl charge</th>\n",
              "    </tr>\n",
              "  </thead>\n",
              "  <tbody>\n",
              "    <tr>\n",
              "      <th>Total day minutes</th>\n",
              "      <td>1.000000</td>\n",
              "      <td>0.016780</td>\n",
              "      <td>1.000000</td>\n",
              "      <td>0.003999</td>\n",
              "      <td>0.009059</td>\n",
              "      <td>0.003992</td>\n",
              "      <td>0.013491</td>\n",
              "      <td>0.015054</td>\n",
              "      <td>0.013464</td>\n",
              "      <td>-0.011042</td>\n",
              "      <td>0.005687</td>\n",
              "      <td>-0.010934</td>\n",
              "    </tr>\n",
              "    <tr>\n",
              "      <th>Total day calls</th>\n",
              "      <td>0.016780</td>\n",
              "      <td>1.000000</td>\n",
              "      <td>0.016787</td>\n",
              "      <td>-0.026003</td>\n",
              "      <td>0.006473</td>\n",
              "      <td>-0.026006</td>\n",
              "      <td>0.008986</td>\n",
              "      <td>-0.016776</td>\n",
              "      <td>0.008972</td>\n",
              "      <td>0.031036</td>\n",
              "      <td>0.006928</td>\n",
              "      <td>0.031133</td>\n",
              "    </tr>\n",
              "    <tr>\n",
              "      <th>Total day charge</th>\n",
              "      <td>1.000000</td>\n",
              "      <td>0.016787</td>\n",
              "      <td>1.000000</td>\n",
              "      <td>0.004008</td>\n",
              "      <td>0.009056</td>\n",
              "      <td>0.004002</td>\n",
              "      <td>0.013495</td>\n",
              "      <td>0.015057</td>\n",
              "      <td>0.013468</td>\n",
              "      <td>-0.011046</td>\n",
              "      <td>0.005688</td>\n",
              "      <td>-0.010938</td>\n",
              "    </tr>\n",
              "    <tr>\n",
              "      <th>Total eve minutes</th>\n",
              "      <td>0.003999</td>\n",
              "      <td>-0.026003</td>\n",
              "      <td>0.004008</td>\n",
              "      <td>1.000000</td>\n",
              "      <td>-0.007654</td>\n",
              "      <td>1.000000</td>\n",
              "      <td>-0.013414</td>\n",
              "      <td>0.009017</td>\n",
              "      <td>-0.013450</td>\n",
              "      <td>-0.006915</td>\n",
              "      <td>0.002160</td>\n",
              "      <td>-0.006947</td>\n",
              "    </tr>\n",
              "    <tr>\n",
              "      <th>Total eve calls</th>\n",
              "      <td>0.009059</td>\n",
              "      <td>0.006473</td>\n",
              "      <td>0.009056</td>\n",
              "      <td>-0.007654</td>\n",
              "      <td>1.000000</td>\n",
              "      <td>-0.007642</td>\n",
              "      <td>-0.000175</td>\n",
              "      <td>0.000797</td>\n",
              "      <td>-0.000135</td>\n",
              "      <td>0.011012</td>\n",
              "      <td>0.003710</td>\n",
              "      <td>0.011000</td>\n",
              "    </tr>\n",
              "    <tr>\n",
              "      <th>Total eve charge</th>\n",
              "      <td>0.003992</td>\n",
              "      <td>-0.026006</td>\n",
              "      <td>0.004002</td>\n",
              "      <td>1.000000</td>\n",
              "      <td>-0.007642</td>\n",
              "      <td>1.000000</td>\n",
              "      <td>-0.013428</td>\n",
              "      <td>0.009030</td>\n",
              "      <td>-0.013464</td>\n",
              "      <td>-0.006923</td>\n",
              "      <td>0.002169</td>\n",
              "      <td>-0.006955</td>\n",
              "    </tr>\n",
              "    <tr>\n",
              "      <th>Total night minutes</th>\n",
              "      <td>0.013491</td>\n",
              "      <td>0.008986</td>\n",
              "      <td>0.013495</td>\n",
              "      <td>-0.013414</td>\n",
              "      <td>-0.000175</td>\n",
              "      <td>-0.013428</td>\n",
              "      <td>1.000000</td>\n",
              "      <td>0.012736</td>\n",
              "      <td>0.999999</td>\n",
              "      <td>-0.008607</td>\n",
              "      <td>-0.001110</td>\n",
              "      <td>-0.008510</td>\n",
              "    </tr>\n",
              "    <tr>\n",
              "      <th>Total night calls</th>\n",
              "      <td>0.015054</td>\n",
              "      <td>-0.016776</td>\n",
              "      <td>0.015057</td>\n",
              "      <td>0.009017</td>\n",
              "      <td>0.000797</td>\n",
              "      <td>0.009030</td>\n",
              "      <td>0.012736</td>\n",
              "      <td>1.000000</td>\n",
              "      <td>0.012720</td>\n",
              "      <td>-0.023447</td>\n",
              "      <td>0.019367</td>\n",
              "      <td>-0.023434</td>\n",
              "    </tr>\n",
              "    <tr>\n",
              "      <th>Total night charge</th>\n",
              "      <td>0.013464</td>\n",
              "      <td>0.008972</td>\n",
              "      <td>0.013468</td>\n",
              "      <td>-0.013450</td>\n",
              "      <td>-0.000135</td>\n",
              "      <td>-0.013464</td>\n",
              "      <td>0.999999</td>\n",
              "      <td>0.012720</td>\n",
              "      <td>1.000000</td>\n",
              "      <td>-0.008615</td>\n",
              "      <td>-0.001099</td>\n",
              "      <td>-0.008517</td>\n",
              "    </tr>\n",
              "    <tr>\n",
              "      <th>Total intl minutes</th>\n",
              "      <td>-0.011042</td>\n",
              "      <td>0.031036</td>\n",
              "      <td>-0.011046</td>\n",
              "      <td>-0.006915</td>\n",
              "      <td>0.011012</td>\n",
              "      <td>-0.006923</td>\n",
              "      <td>-0.008607</td>\n",
              "      <td>-0.023447</td>\n",
              "      <td>-0.008615</td>\n",
              "      <td>1.000000</td>\n",
              "      <td>0.037315</td>\n",
              "      <td>0.999993</td>\n",
              "    </tr>\n",
              "    <tr>\n",
              "      <th>Total intl calls</th>\n",
              "      <td>0.005687</td>\n",
              "      <td>0.006928</td>\n",
              "      <td>0.005688</td>\n",
              "      <td>0.002160</td>\n",
              "      <td>0.003710</td>\n",
              "      <td>0.002169</td>\n",
              "      <td>-0.001110</td>\n",
              "      <td>0.019367</td>\n",
              "      <td>-0.001099</td>\n",
              "      <td>0.037315</td>\n",
              "      <td>1.000000</td>\n",
              "      <td>0.037363</td>\n",
              "    </tr>\n",
              "    <tr>\n",
              "      <th>Total intl charge</th>\n",
              "      <td>-0.010934</td>\n",
              "      <td>0.031133</td>\n",
              "      <td>-0.010938</td>\n",
              "      <td>-0.006947</td>\n",
              "      <td>0.011000</td>\n",
              "      <td>-0.006955</td>\n",
              "      <td>-0.008510</td>\n",
              "      <td>-0.023434</td>\n",
              "      <td>-0.008517</td>\n",
              "      <td>0.999993</td>\n",
              "      <td>0.037363</td>\n",
              "      <td>1.000000</td>\n",
              "    </tr>\n",
              "  </tbody>\n",
              "</table>\n",
              "</div>"
            ],
            "text/plain": [
              "                     Total day minutes  ...  Total intl charge\n",
              "Total day minutes             1.000000  ...          -0.010934\n",
              "Total day calls               0.016780  ...           0.031133\n",
              "Total day charge              1.000000  ...          -0.010938\n",
              "Total eve minutes             0.003999  ...          -0.006947\n",
              "Total eve calls               0.009059  ...           0.011000\n",
              "Total eve charge              0.003992  ...          -0.006955\n",
              "Total night minutes           0.013491  ...          -0.008510\n",
              "Total night calls             0.015054  ...          -0.023434\n",
              "Total night charge            0.013464  ...          -0.008517\n",
              "Total intl minutes           -0.011042  ...           0.999993\n",
              "Total intl calls              0.005687  ...           0.037363\n",
              "Total intl charge            -0.010934  ...           1.000000\n",
              "\n",
              "[12 rows x 12 columns]"
            ]
          },
          "metadata": {
            "tags": []
          },
          "execution_count": 13
        },
        {
          "output_type": "display_data",
          "data": {
            "image/png": "[encoded data removed]",
            "text/plain": [
              "<Figure size 432x288 with 2 Axes>"
            ]
          },
          "metadata": {
            "tags": [],
            "needs_background": "light"
          }
        }
      ]
    },
    {
      "cell_type": "markdown",
      "metadata": {
        "id": "UV_sxjoPqpld",
        "colab_type": "text"
      },
      "source": [
        "#Feature reprocess\n",
        "\n"
      ]
    },
    {
      "cell_type": "code",
      "metadata": {
        "id": "rkobuoFIu5kn",
        "colab_type": "code",
        "colab": {}
      },
      "source": [
        "churn_df['International plan'] = churn_df['International plan'] == \"Yes\"\n",
        "churn_df['Voice mail plan'] = churn_df['Voice mail plan'] == \"Yes\""
      ],
      "execution_count": 14,
      "outputs": []
    },
    {
      "cell_type": "code",
      "metadata": {
        "id": "yt6FQe-EuhGb",
        "colab_type": "code",
        "colab": {}
      },
      "source": [
        "to_drop = ['Total day minutes','Total eve minutes','Total night minutes','Total intl minutes','State','Account length','Area code','Churn']\n",
        "x = churn_df.drop(to_drop,axis=1)"
      ],
      "execution_count": 15,
      "outputs": []
    },
    {
      "cell_type": "code",
      "metadata": {
        "id": "JgIqRIOtwJrc",
        "colab_type": "code",
        "colab": {
          "base_uri": "https://localhost:8080/",
          "height": 238
        },
        "outputId": "f7107391-27e4-4927-f8f5-4e8f502be7f3"
      },
      "source": [
        "x.head()"
      ],
      "execution_count": 16,
      "outputs": [
        {
          "output_type": "execute_result",
          "data": {
            "text/html": [
              "<div>\n",
              "<style scoped>\n",
              "    .dataframe tbody tr th:only-of-type {\n",
              "        vertical-align: middle;\n",
              "    }\n",
              "\n",
              "    .dataframe tbody tr th {\n",
              "        vertical-align: top;\n",
              "    }\n",
              "\n",
              "    .dataframe thead th {\n",
              "        text-align: right;\n",
              "    }\n",
              "</style>\n",
              "<table border=\"1\" class=\"dataframe\">\n",
              "  <thead>\n",
              "    <tr style=\"text-align: right;\">\n",
              "      <th></th>\n",
              "      <th>International plan</th>\n",
              "      <th>Voice mail plan</th>\n",
              "      <th>Number vmail messages</th>\n",
              "      <th>Total day calls</th>\n",
              "      <th>Total day charge</th>\n",
              "      <th>Total eve calls</th>\n",
              "      <th>Total eve charge</th>\n",
              "      <th>Total night calls</th>\n",
              "      <th>Total night charge</th>\n",
              "      <th>Total intl calls</th>\n",
              "      <th>Total intl charge</th>\n",
              "      <th>Customer service calls</th>\n",
              "    </tr>\n",
              "  </thead>\n",
              "  <tbody>\n",
              "    <tr>\n",
              "      <th>0</th>\n",
              "      <td>False</td>\n",
              "      <td>True</td>\n",
              "      <td>25</td>\n",
              "      <td>110</td>\n",
              "      <td>45.07</td>\n",
              "      <td>99</td>\n",
              "      <td>16.78</td>\n",
              "      <td>91</td>\n",
              "      <td>11.01</td>\n",
              "      <td>3</td>\n",
              "      <td>2.70</td>\n",
              "      <td>1</td>\n",
              "    </tr>\n",
              "    <tr>\n",
              "      <th>1</th>\n",
              "      <td>False</td>\n",
              "      <td>True</td>\n",
              "      <td>26</td>\n",
              "      <td>123</td>\n",
              "      <td>27.47</td>\n",
              "      <td>103</td>\n",
              "      <td>16.62</td>\n",
              "      <td>103</td>\n",
              "      <td>11.45</td>\n",
              "      <td>3</td>\n",
              "      <td>3.70</td>\n",
              "      <td>1</td>\n",
              "    </tr>\n",
              "    <tr>\n",
              "      <th>2</th>\n",
              "      <td>False</td>\n",
              "      <td>False</td>\n",
              "      <td>0</td>\n",
              "      <td>114</td>\n",
              "      <td>41.38</td>\n",
              "      <td>110</td>\n",
              "      <td>10.30</td>\n",
              "      <td>104</td>\n",
              "      <td>7.32</td>\n",
              "      <td>5</td>\n",
              "      <td>3.29</td>\n",
              "      <td>0</td>\n",
              "    </tr>\n",
              "    <tr>\n",
              "      <th>3</th>\n",
              "      <td>True</td>\n",
              "      <td>False</td>\n",
              "      <td>0</td>\n",
              "      <td>71</td>\n",
              "      <td>50.90</td>\n",
              "      <td>88</td>\n",
              "      <td>5.26</td>\n",
              "      <td>89</td>\n",
              "      <td>8.86</td>\n",
              "      <td>7</td>\n",
              "      <td>1.78</td>\n",
              "      <td>2</td>\n",
              "    </tr>\n",
              "    <tr>\n",
              "      <th>4</th>\n",
              "      <td>True</td>\n",
              "      <td>False</td>\n",
              "      <td>0</td>\n",
              "      <td>113</td>\n",
              "      <td>28.34</td>\n",
              "      <td>122</td>\n",
              "      <td>12.61</td>\n",
              "      <td>121</td>\n",
              "      <td>8.41</td>\n",
              "      <td>3</td>\n",
              "      <td>2.73</td>\n",
              "      <td>3</td>\n",
              "    </tr>\n",
              "  </tbody>\n",
              "</table>\n",
              "</div>"
            ],
            "text/plain": [
              "   International plan  ...  Customer service calls\n",
              "0               False  ...                       1\n",
              "1               False  ...                       1\n",
              "2               False  ...                       0\n",
              "3                True  ...                       2\n",
              "4                True  ...                       3\n",
              "\n",
              "[5 rows x 12 columns]"
            ]
          },
          "metadata": {
            "tags": []
          },
          "execution_count": 16
        }
      ]
    },
    {
      "cell_type": "code",
      "metadata": {
        "id": "WJqvI5U7wOgH",
        "colab_type": "code",
        "colab": {
          "base_uri": "https://localhost:8080/",
          "height": 119
        },
        "outputId": "54ffb80a-a5a3-417f-a88d-231548d316bf"
      },
      "source": [
        "y.head()"
      ],
      "execution_count": 17,
      "outputs": [
        {
          "output_type": "execute_result",
          "data": {
            "text/plain": [
              "0    False\n",
              "1    False\n",
              "2    False\n",
              "3    False\n",
              "4    False\n",
              "Name: Churn, dtype: bool"
            ]
          },
          "metadata": {
            "tags": []
          },
          "execution_count": 17
        }
      ]
    },
    {
      "cell_type": "markdown",
      "metadata": {
        "id": "CFo8CTNBv77z",
        "colab_type": "text"
      },
      "source": [
        "#Model training and evaluation\n"
      ]
    },
    {
      "cell_type": "code",
      "metadata": {
        "id": "1IuvQ_Chv6OH",
        "colab_type": "code",
        "colab": {
          "base_uri": "https://localhost:8080/",
          "height": 85
        },
        "outputId": "656b883a-e2db-4a98-d6c6-124336dd7209"
      },
      "source": [
        "from sklearn import model_selection\n",
        "x_train,x_test,y_train,y_test = model_selection.train_test_split(x,y,test_size = 0.25,random_state = 1,stratify = y)#stratify:保证training data和testing data里y的label和整体的y label保持一致。避免y unbalance的情况\n",
        "print(x_train.shape)\n",
        "print(x_test.shape)\n",
        "print(y_train.shape)\n",
        "print(y_test.shape)"
      ],
      "execution_count": 30,
      "outputs": [
        {
          "output_type": "stream",
          "text": [
            "(1999, 12)\n",
            "(667, 12)\n",
            "(1999,)\n",
            "(667,)\n"
          ],
          "name": "stdout"
        }
      ]
    },
    {
      "cell_type": "code",
      "metadata": {
        "id": "o3dicyP52FS1",
        "colab_type": "code",
        "colab": {}
      },
      "source": [
        "#standardization\n",
        "from sklearn.preprocessing import StandardScaler\n",
        "scalar = StandardScaler()\n",
        "scalar.fit(x_train)\n",
        "x_train = scalar.transform(x_train)\n",
        "x_test = scalar.transform(x_test)"
      ],
      "execution_count": 36,
      "outputs": []
    },
    {
      "cell_type": "code",
      "metadata": {
        "id": "U9_EDqsDuAdT",
        "colab_type": "code",
        "colab": {
          "base_uri": "https://localhost:8080/",
          "height": 34
        },
        "outputId": "1b37680f-c94d-406c-b502-7ab9c9bd868c"
      },
      "source": [
        "x_test.shape"
      ],
      "execution_count": 20,
      "outputs": [
        {
          "output_type": "execute_result",
          "data": {
            "text/plain": [
              "(667, 12)"
            ]
          },
          "metadata": {
            "tags": []
          },
          "execution_count": 20
        }
      ]
    },
    {
      "cell_type": "code",
      "metadata": {
        "id": "Wi4s2_o9oujS",
        "colab_type": "code",
        "colab": {}
      },
      "source": [
        "#model construction\n",
        "from sklearn.linear_model import LogisticRegression\n",
        "from sklearn.ensemble import RandomForestClassifier\n",
        "from sklearn.neighbors import KNeighborsClassifier\n",
        "\n",
        "#logistic regression\n",
        "model_logistic = LogisticRegression()\n",
        "#Random forest\n",
        "model_rf = RandomForestClassifier()\n",
        "#KNN\n",
        "model_knn = KNeighborsClassifier()"
      ],
      "execution_count": 37,
      "outputs": []
    },
    {
      "cell_type": "code",
      "metadata": {
        "id": "W_Qzltl3tu5N",
        "colab_type": "code",
        "colab": {
          "base_uri": "https://localhost:8080/",
          "height": 68
        },
        "outputId": "520da282-227b-48af-e955-18a256c794db"
      },
      "source": [
        "#Train the logistic regression model\n",
        "model_logistic.fit(x_train,y_train)\n",
        "model_rf.fit(x_train,y_train)\n",
        "model_knn.fit(x_train,y_train)"
      ],
      "execution_count": 41,
      "outputs": [
        {
          "output_type": "execute_result",
          "data": {
            "text/plain": [
              "KNeighborsClassifier(algorithm='auto', leaf_size=30, metric='minkowski',\n",
              "                     metric_params=None, n_jobs=None, n_neighbors=5, p=2,\n",
              "                     weights='uniform')"
            ]
          },
          "metadata": {
            "tags": []
          },
          "execution_count": 41
        }
      ]
    },
    {
      "cell_type": "code",
      "metadata": {
        "id": "iE4szfZtvF0_",
        "colab_type": "code",
        "colab": {
          "base_uri": "https://localhost:8080/",
          "height": 102
        },
        "outputId": "8bd3a7f5-7489-4dad-ac71-f5df70b398b9"
      },
      "source": [
        "#predict\n",
        "model_logistic.predict(x_test)\n"
      ],
      "execution_count": 45,
      "outputs": [
        {
          "output_type": "execute_result",
          "data": {
            "text/plain": [
              "<bound method BaseEstimator.get_params of LogisticRegression(C=1.0, class_weight=None, dual=False, fit_intercept=True,\n",
              "                   intercept_scaling=1, l1_ratio=None, max_iter=100,\n",
              "                   multi_class='auto', n_jobs=None, penalty='l2',\n",
              "                   random_state=None, solver='lbfgs', tol=0.0001, verbose=0,\n",
              "                   warm_start=False)>"
            ]
          },
          "metadata": {
            "tags": []
          },
          "execution_count": 45
        }
      ]
    },
    {
      "cell_type": "code",
      "metadata": {
        "id": "WIPePQqXvZ1A",
        "colab_type": "code",
        "colab": {
          "base_uri": "https://localhost:8080/",
          "height": 34
        },
        "outputId": "100280a1-d28e-4277-ce8d-026197e13c6b"
      },
      "source": [
        "#Accuracy\n",
        "model_logistic.score(x_test,y_test)"
      ],
      "execution_count": 43,
      "outputs": [
        {
          "output_type": "execute_result",
          "data": {
            "text/plain": [
              "0.863568215892054"
            ]
          },
          "metadata": {
            "tags": []
          },
          "execution_count": 43
        }
      ]
    },
    {
      "cell_type": "code",
      "metadata": {
        "id": "_6GzSUqTwd0q",
        "colab_type": "code",
        "colab": {
          "base_uri": "https://localhost:8080/",
          "height": 119
        },
        "outputId": "b2493e28-8d19-4bbb-e845-8923f5b6749a"
      },
      "source": [
        "#Use 5-fold cross validation to get the accuracy of different models\n",
        "model_name = [\"logistic regression\",\"KNN\",\"Random Forest\"]\n",
        "model_list = [model_logistic,model_knn,model_rf]#no need to add quotes here\n",
        "n=0\n",
        "for model in model_list:\n",
        "  cv_score = model_selection.cross_val_score(model,x_train,y_train,cv = 5)\n",
        "  print(cv_score)\n",
        "  print(model_name[n] + \" \" + \"Average CV Score:\" + str(cv_score.mean()))\n",
        "  n += 1"
      ],
      "execution_count": 44,
      "outputs": [
        {
          "output_type": "stream",
          "text": [
            "[0.8675     0.855      0.87       0.855      0.85964912]\n",
            "logistic regression Average CV Score:0.8614298245614036\n",
            "[0.9025     0.875      0.8875     0.8925     0.88220551]\n",
            "KNN Average CV Score:0.8879411027568922\n",
            "[0.965      0.925      0.9375     0.935      0.94736842]\n",
            "Random Forest Average CV Score:0.9419736842105264\n"
          ],
          "name": "stdout"
        }
      ]
    },
    {
      "cell_type": "markdown",
      "metadata": {
        "id": "RcFZ-dJ5XASm",
        "colab_type": "text"
      },
      "source": [
        "#Use Grid Search to find optimal hyperparameter\n"
      ]
    },
    {
      "cell_type": "code",
      "metadata": {
        "id": "fw8rlKFmW2c6",
        "colab_type": "code",
        "colab": {}
      },
      "source": [
        "#Training Hyperparameter\n",
        "from sklearn.model_selection import GridSearchCV\n",
        "def best_hyperparameter(model):\n",
        "  print(\"Best Score:\" + str(model.best_score_))\n",
        "  print(\"Best Hyperparameter:\")\n",
        "  for i in model.best_params_.keys():\n",
        "    print(i+\":\"+str(model.best_params_[i]))\n"
      ],
      "execution_count": 58,
      "outputs": []
    },
    {
      "cell_type": "code",
      "metadata": {
        "id": "sa674bpHgNDB",
        "colab_type": "code",
        "colab": {
          "base_uri": "https://localhost:8080/",
          "height": 238
        },
        "outputId": "7d72a61d-27e3-4bbb-bf20-0d6671568474"
      },
      "source": [
        "parameter = {\"penalty\":('l1','l2'),\n",
        "             \"C\":(1,0.5,0.25)}\n",
        "Grid_LR = GridSearchCV(LogisticRegression(solver='liblinear'),parameter,cv=5)\n",
        "Grid_LR.fit(x_train,y_train)"
      ],
      "execution_count": 64,
      "outputs": [
        {
          "output_type": "execute_result",
          "data": {
            "text/plain": [
              "GridSearchCV(cv=5, error_score=nan,\n",
              "             estimator=LogisticRegression(C=1.0, class_weight=None, dual=False,\n",
              "                                          fit_intercept=True,\n",
              "                                          intercept_scaling=1, l1_ratio=None,\n",
              "                                          max_iter=100, multi_class='auto',\n",
              "                                          n_jobs=None, penalty='l2',\n",
              "                                          random_state=None, solver='liblinear',\n",
              "                                          tol=0.0001, verbose=0,\n",
              "                                          warm_start=False),\n",
              "             iid='deprecated', n_jobs=None,\n",
              "             param_grid={'C': (1, 0.5, 0.25), 'penalty': ('l1', 'l2')},\n",
              "             pre_dispatch='2*n_jobs', refit=True, return_train_score=False,\n",
              "             scoring=None, verbose=0)"
            ]
          },
          "metadata": {
            "tags": []
          },
          "execution_count": 64
        }
      ]
    },
    {
      "cell_type": "code",
      "metadata": {
        "id": "5s7KcOXihs9L",
        "colab_type": "code",
        "colab": {
          "base_uri": "https://localhost:8080/",
          "height": 85
        },
        "outputId": "c5a830e1-0b61-4f8d-f860-976697114e19"
      },
      "source": [
        "#print out the best parameter\n",
        "best_hyperparameter(Grid_LR)"
      ],
      "execution_count": 65,
      "outputs": [
        {
          "output_type": "stream",
          "text": [
            "Best Score:0.8624298245614035\n",
            "Best Hyperparameter:\n",
            "C:1\n",
            "penalty:l1\n"
          ],
          "name": "stdout"
        }
      ]
    },
    {
      "cell_type": "code",
      "metadata": {
        "id": "em2EeT1EiI8s",
        "colab_type": "code",
        "colab": {}
      },
      "source": [
        "#give the best logistic regression model\n",
        "best_LR_model = Grid_LR.best_estimator_"
      ],
      "execution_count": 67,
      "outputs": []
    },
    {
      "cell_type": "code",
      "metadata": {
        "id": "XPmOzlMqijTK",
        "colab_type": "code",
        "colab": {
          "base_uri": "https://localhost:8080/",
          "height": 204
        },
        "outputId": "886bed47-5ef4-42af-cdb8-f4fce2b29b98"
      },
      "source": [
        "#for KNN\n",
        "parameter = {\"n_neighbors\":(1,3,5,7,9),\n",
        "             \"algorithm\":('auto','ball_tree', 'kd_tree', 'brute')}\n",
        "Grid_knn = GridSearchCV(KNeighborsClassifier(),parameter,cv=5)\n",
        "Grid_knn.fit(x_train,y_train)"
      ],
      "execution_count": 73,
      "outputs": [
        {
          "output_type": "execute_result",
          "data": {
            "text/plain": [
              "GridSearchCV(cv=5, error_score=nan,\n",
              "             estimator=KNeighborsClassifier(algorithm='auto', leaf_size=30,\n",
              "                                            metric='minkowski',\n",
              "                                            metric_params=None, n_jobs=None,\n",
              "                                            n_neighbors=5, p=2,\n",
              "                                            weights='uniform'),\n",
              "             iid='deprecated', n_jobs=None,\n",
              "             param_grid={'algorithm': ('auto', 'ball_tree', 'kd_tree', 'brute'),\n",
              "                         'n_neighbors': (1, 3, 5, 7, 9)},\n",
              "             pre_dispatch='2*n_jobs', refit=True, return_train_score=False,\n",
              "             scoring=None, verbose=0)"
            ]
          },
          "metadata": {
            "tags": []
          },
          "execution_count": 73
        }
      ]
    },
    {
      "cell_type": "code",
      "metadata": {
        "id": "QqVua01Ck8Z8",
        "colab_type": "code",
        "colab": {
          "base_uri": "https://localhost:8080/",
          "height": 85
        },
        "outputId": "bd311be1-21b2-49d8-9ac5-b25c32b9ccfb"
      },
      "source": [
        "#find the best parameters\n",
        "best_hyperparameter(Grid_knn)"
      ],
      "execution_count": 77,
      "outputs": [
        {
          "output_type": "stream",
          "text": [
            "Best Score:0.8914473684210525\n",
            "Best Hyperparameter:\n",
            "algorithm:auto\n",
            "n_neighbors:3\n"
          ],
          "name": "stdout"
        }
      ]
    },
    {
      "cell_type": "code",
      "metadata": {
        "id": "9-5swq7tlSD8",
        "colab_type": "code",
        "colab": {
          "base_uri": "https://localhost:8080/",
          "height": 68
        },
        "outputId": "aa8b9f59-d4ce-4739-ead5-01a1e7ac9787"
      },
      "source": [
        "#best knn model\n",
        "Best_Grid_knn = Grid_knn.best_estimator_"
      ],
      "execution_count": 79,
      "outputs": [
        {
          "output_type": "execute_result",
          "data": {
            "text/plain": [
              "KNeighborsClassifier(algorithm='auto', leaf_size=30, metric='minkowski',\n",
              "                     metric_params=None, n_jobs=None, n_neighbors=3, p=2,\n",
              "                     weights='uniform')"
            ]
          },
          "metadata": {
            "tags": []
          },
          "execution_count": 79
        }
      ]
    },
    {
      "cell_type": "code",
      "metadata": {
        "id": "DNGUHNvXltFq",
        "colab_type": "code",
        "colab": {
          "base_uri": "https://localhost:8080/",
          "height": 374
        },
        "outputId": "45deeaf1-b440-46cf-876f-c1d8fb8bb16b"
      },
      "source": [
        "#for random forest\n",
        "parameter = {\"n_estimators\":(200,300,400),\n",
        "             \"criterion\":(\"gini\",\"entropy\")}\n",
        "Grid_rf = GridSearchCV(RandomForestClassifier(),parameter,cv=5)\n",
        "Grid_rf.fit(x_train,y_train)"
      ],
      "execution_count": 82,
      "outputs": [
        {
          "output_type": "execute_result",
          "data": {
            "text/plain": [
              "GridSearchCV(cv=5, error_score=nan,\n",
              "             estimator=RandomForestClassifier(bootstrap=True, ccp_alpha=0.0,\n",
              "                                              class_weight=None,\n",
              "                                              criterion='gini', max_depth=None,\n",
              "                                              max_features='auto',\n",
              "                                              max_leaf_nodes=None,\n",
              "                                              max_samples=None,\n",
              "                                              min_impurity_decrease=0.0,\n",
              "                                              min_impurity_split=None,\n",
              "                                              min_samples_leaf=1,\n",
              "                                              min_samples_split=2,\n",
              "                                              min_weight_fraction_leaf=0.0,\n",
              "                                              n_estimators=100, n_jobs=None,\n",
              "                                              oob_score=False,\n",
              "                                              random_state=None, verbose=0,\n",
              "                                              warm_start=False),\n",
              "             iid='deprecated', n_jobs=None,\n",
              "             param_grid={'criterion': ('gini', 'entropy'),\n",
              "                         'n_estimators': (200, 300, 400)},\n",
              "             pre_dispatch='2*n_jobs', refit=True, return_train_score=False,\n",
              "             scoring=None, verbose=0)"
            ]
          },
          "metadata": {
            "tags": []
          },
          "execution_count": 82
        }
      ]
    },
    {
      "cell_type": "code",
      "metadata": {
        "id": "OHdXJsiymtc3",
        "colab_type": "code",
        "colab": {
          "base_uri": "https://localhost:8080/",
          "height": 85
        },
        "outputId": "e44fe6b1-10c9-44c7-83f7-11a2d6e62d51"
      },
      "source": [
        "#find best hyperparameters\n",
        "best_hyperparameter(Grid_rf)"
      ],
      "execution_count": 83,
      "outputs": [
        {
          "output_type": "stream",
          "text": [
            "Best Score:0.9449736842105263\n",
            "Best Hyperparameter:\n",
            "criterion:entropy\n",
            "n_estimators:200\n"
          ],
          "name": "stdout"
        }
      ]
    },
    {
      "cell_type": "code",
      "metadata": {
        "id": "20qcGjT4nWpM",
        "colab_type": "code",
        "colab": {
          "base_uri": "https://localhost:8080/",
          "height": 153
        },
        "outputId": "6968337f-3264-4046-826d-5c731d492a7d"
      },
      "source": [
        "#give best random forest model\n",
        "best_rf = Grid_rf.best_estimator_\n",
        "best_rf"
      ],
      "execution_count": 88,
      "outputs": [
        {
          "output_type": "execute_result",
          "data": {
            "text/plain": [
              "RandomForestClassifier(bootstrap=True, ccp_alpha=0.0, class_weight=None,\n",
              "                       criterion='entropy', max_depth=None, max_features='auto',\n",
              "                       max_leaf_nodes=None, max_samples=None,\n",
              "                       min_impurity_decrease=0.0, min_impurity_split=None,\n",
              "                       min_samples_leaf=1, min_samples_split=2,\n",
              "                       min_weight_fraction_leaf=0.0, n_estimators=200,\n",
              "                       n_jobs=None, oob_score=False, random_state=None,\n",
              "                       verbose=0, warm_start=False)"
            ]
          },
          "metadata": {
            "tags": []
          },
          "execution_count": 88
        }
      ]
    },
    {
      "cell_type": "markdown",
      "metadata": {
        "id": "gjYi3uSVt0ls",
        "colab_type": "text"
      },
      "source": [
        "#Model Evaulation "
      ]
    },
    {
      "cell_type": "code",
      "metadata": {
        "id": "NfOsX4bCtzbA",
        "colab_type": "code",
        "colab": {
          "base_uri": "https://localhost:8080/",
          "height": 272
        },
        "outputId": "10b5b47b-0819-46a5-c9f4-5aaf37af3905"
      },
      "source": [
        "from sklearn.metrics import confusion_matrix\n",
        "from sklearn.metrics import classification_report\n",
        "from sklearn.metrics import precision_score\n",
        "from sklearn.metrics import recall_score\n",
        "#define function\n",
        "def cal_metrics(model,cm):\n",
        "  TN = cm[0][0]\n",
        "  FP = cm[0][1]\n",
        "  FN = cm[1][0]\n",
        "  TP = cm[1][1]\n",
        "  Accuracy = (TN+TP)/(TN+FN+TP+FP+0.0)\n",
        "  Precision = TP/(TP+FP)\n",
        "  Recall = TP/(TP+FN)\n",
        "  print(model)\n",
        "  print(\"Accuracy:\",Accuracy)\n",
        "  print(\"Precision:\",Precision)\n",
        "  print(\"Recall\",Recall)\n",
        "  print(\" \")\n",
        "\n",
        "def model_list(model):\n",
        "  for cm in model:\n",
        "    model_name,cm = cm[0],cm[1]\n",
        "    cal_metrics(model_name,cm)\n",
        "\n",
        "model_info = [(\"Logistic regression\",confusion_matrix(y_test,best_LR_model.predict(x_test))),\n",
        "               (\"KNN\",confusion_matrix(y_test,Best_Grid_knn.predict(x_test))),\n",
        "              (\"Random Forest\",confusion_matrix(y_test,best_rf.predict(x_test)))]\n",
        "model_list(model_info)\n"
      ],
      "execution_count": 102,
      "outputs": [
        {
          "output_type": "stream",
          "text": [
            "Logistic regression\n",
            "Accuracy: 0.863568215892054\n",
            "Precision: 0.5882352941176471\n",
            "Recall 0.20618556701030927\n",
            " \n",
            "KNN\n",
            "Accuracy: 0.896551724137931\n",
            "Precision: 0.78\n",
            "Recall 0.4020618556701031\n",
            " \n",
            "Random Forest\n",
            "Accuracy: 0.9460269865067467\n",
            "Precision: 0.9295774647887324\n",
            "Recall 0.6804123711340206\n",
            " \n"
          ],
          "name": "stdout"
        }
      ]
    },
    {
      "cell_type": "markdown",
      "metadata": {
        "id": "hXpPtEsTBvp6",
        "colab_type": "text"
      },
      "source": [
        "ROC of random forest"
      ]
    },
    {
      "cell_type": "code",
      "metadata": {
        "id": "d0koEDxoqPkG",
        "colab_type": "code",
        "colab": {}
      },
      "source": [
        "from sklearn.metrics import roc_curve\n",
        "from sklearn import metrics\n",
        "y_rf = best_rf.predict_proba(x_test)[:,1]\n",
        "fpr_rf,tpr_rf,threshold=roc_curve(y_test,y_rf)"
      ],
      "execution_count": 123,
      "outputs": []
    },
    {
      "cell_type": "code",
      "metadata": {
        "id": "5S6S1pfl9bma",
        "colab_type": "code",
        "colab": {
          "base_uri": "https://localhost:8080/",
          "height": 295
        },
        "outputId": "24e4179b-bd5b-48df-db59-7c58163278fd"
      },
      "source": [
        "#draw plot\n",
        "plt.figure(1)\n",
        "plt.plot([0,1],[0,1],'k--')\n",
        "plt.plot(fpr_rf,tpr_rf,label = 'rf')\n",
        "plt.xlabel(\"False Positive Rate\")\n",
        "plt.ylabel(\"True Positive Rate\")\n",
        "plt.title('RF-Random Forest')\n",
        "plt.show()"
      ],
      "execution_count": 109,
      "outputs": [
        {
          "output_type": "display_data",
          "data": {
            "image/png": "[encoded data removed]",
            "text/plain": [
              "<Figure size 432x288 with 1 Axes>"
            ]
          },
          "metadata": {
            "tags": [],
            "needs_background": "light"
          }
        }
      ]
    },
    {
      "cell_type": "code",
      "metadata": {
        "id": "Xf1MEaTg-ybT",
        "colab_type": "code",
        "colab": {
          "base_uri": "https://localhost:8080/",
          "height": 34
        },
        "outputId": "b58cad49-7b5a-40cf-f930-cd468c1c42d0"
      },
      "source": [
        "#calculate AUC\n",
        "metrics.auc(fpr_rf,tpr_rf)"
      ],
      "execution_count": 110,
      "outputs": [
        {
          "output_type": "execute_result",
          "data": {
            "text/plain": [
              "0.9253933803581118"
            ]
          },
          "metadata": {
            "tags": []
          },
          "execution_count": 110
        }
      ]
    },
    {
      "cell_type": "markdown",
      "metadata": {
        "id": "jSY2vF0uBqgY",
        "colab_type": "text"
      },
      "source": [
        "ROC of Logistic Regression"
      ]
    },
    {
      "cell_type": "code",
      "metadata": {
        "id": "FJAwE29MBtCs",
        "colab_type": "code",
        "colab": {}
      },
      "source": [
        "y_lf = best_LR_model.predict_proba(x_test)[:,1]\n",
        "fpr_lr,tpr_lr,_ = roc_curve(y_test,y_lf)\n"
      ],
      "execution_count": 124,
      "outputs": []
    },
    {
      "cell_type": "code",
      "metadata": {
        "id": "PWANf7VNCaTI",
        "colab_type": "code",
        "colab": {
          "base_uri": "https://localhost:8080/",
          "height": 295
        },
        "outputId": "18e5fb3c-5661-4472-a5b9-5339d16bd355"
      },
      "source": [
        "#draw plot\n",
        "plt.figure(2)\n",
        "plt.plot([0,1],[0,1],\"k--\")\n",
        "plt.plot(fpr_lr,tpr_lr)\n",
        "plt.xlabel(\"False positive rate\")\n",
        "plt.ylabel(\"True positive rate\")\n",
        "plt.title(\"LR-Linear Regression\")\n",
        "plt.show()"
      ],
      "execution_count": 125,
      "outputs": [
        {
          "output_type": "display_data",
          "data": {
            "image/png": "[encoded data removed]",
            "text/plain": [
              "<Figure size 432x288 with 1 Axes>"
            ]
          },
          "metadata": {
            "tags": [],
            "needs_background": "light"
          }
        }
      ]
    },
    {
      "cell_type": "code",
      "metadata": {
        "id": "_z5A5uEmC7Fa",
        "colab_type": "code",
        "colab": {
          "base_uri": "https://localhost:8080/",
          "height": 34
        },
        "outputId": "30a408b5-4bfa-4abc-d99b-cb6e27e184ba"
      },
      "source": [
        "#AUC \n",
        "metrics.auc(fpr_lr,tpr_lr)"
      ],
      "execution_count": 126,
      "outputs": [
        {
          "output_type": "execute_result",
          "data": {
            "text/plain": [
              "0.7986977753662508"
            ]
          },
          "metadata": {
            "tags": []
          },
          "execution_count": 126
        }
      ]
    },
    {
      "cell_type": "code",
      "metadata": {
        "id": "EpL24vQEDMbh",
        "colab_type": "code",
        "colab": {}
      },
      "source": [
        ""
      ],
      "execution_count": null,
      "outputs": []
    }
  ]
}
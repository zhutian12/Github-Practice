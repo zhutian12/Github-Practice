{
  "nbformat": 4,
  "nbformat_minor": 0,
  "metadata": {
    "colab": {
      "name": "churn_analysis.ipynb",
      "provenance": [],
      "authorship_tag": "ABX9TyPWVBHrKLyy6EQVQn8xxTVD",
      "include_colab_link": true
    },
    "kernelspec": {
      "name": "python3",
      "display_name": "Python 3"
    }
  },
  "cells": [
    {
      "cell_type": "markdown",
      "metadata": {
        "id": "view-in-github",
        "colab_type": "text"
      },
      "source": [
        "<a href=\"https://colab.research.google.com/github/zhutian12/Github-Practice/blob/master/churn_analysis.ipynb\" target=\"_parent\"><img src=\"https://colab.research.google.com/assets/colab-badge.svg\" alt=\"Open In Colab\"/></a>"
      ]
    },
    {
      "cell_type": "code",
      "metadata": {
        "id": "_6zuHKneLAOT",
        "colab_type": "code",
        "colab": {}
      },
      "source": [
        "import numpy as np\n",
        "import pandas as pd\n",
        "import seaborn as sns\n",
        "import matplotlib.pyplot as plt"
      ],
      "execution_count": null,
      "outputs": []
    },
    {
      "cell_type": "code",
      "metadata": {
        "id": "NAkrHqiFLISQ",
        "colab_type": "code",
        "colab": {}
      },
      "source": [
        "#https://drive.google.com/file/d/1WJozKuIy8vQz9YZOgbbXBWegcPcs-KOy/view?usp=sharing\n",
        "file_id='1WJozKuIy8vQz9YZOgbbXBWegcPcs-KOy'\n",
        "link='http://drive.google.com/uc?export=download&id={FILE_ID}'\n",
        "csv_url = link.format(FILE_ID = file_id)\n",
        "churn_df = pd.read_csv(csv_url)\n",
        "\n"
      ],
      "execution_count": null,
      "outputs": []
    },
    {
      "cell_type": "code",
      "metadata": {
        "id": "MyJaZcwhRUMI",
        "colab_type": "code",
        "colab": {
          "base_uri": "https://localhost:8080/",
          "height": 255
        },
        "outputId": "c6820c7c-1714-49e9-e659-1e89808046df"
      },
      "source": [
        "print(churn_df)"
      ],
      "execution_count": null,
      "outputs": [
        {
          "output_type": "stream",
          "text": [
            "     State  Account length  ...  Customer service calls  Churn\n",
            "0       KS             128  ...                       1  False\n",
            "1       OH             107  ...                       1  False\n",
            "2       NJ             137  ...                       0  False\n",
            "3       OH              84  ...                       2  False\n",
            "4       OK              75  ...                       3  False\n",
            "...    ...             ...  ...                     ...    ...\n",
            "2661    SC              79  ...                       2  False\n",
            "2662    AZ             192  ...                       2  False\n",
            "2663    WV              68  ...                       3  False\n",
            "2664    RI              28  ...                       2  False\n",
            "2665    TN              74  ...                       0  False\n",
            "\n",
            "[2666 rows x 20 columns]\n"
          ],
          "name": "stdout"
        }
      ]
    },
    {
      "cell_type": "code",
      "metadata": {
        "id": "_A600iebRX-9",
        "colab_type": "code",
        "colab": {}
      },
      "source": [
        "#get target variable\n",
        "y = churn_df['Churn']"
      ],
      "execution_count": null,
      "outputs": []
    },
    {
      "cell_type": "code",
      "metadata": {
        "id": "K_EgwA_PReiE",
        "colab_type": "code",
        "colab": {
          "base_uri": "https://localhost:8080/",
          "height": 952
        },
        "outputId": "fc1679b7-c80b-4a48-c430-14ddcf8a50dd"
      },
      "source": [
        "churn_df.describe\n",
        "churn_df.dtypes\n",
        "#check the proportion that Churn equal to True\n",
        "print(y.sum()/y.shape[0]*100)\n",
        "print(y.sum())\n",
        "churn_df[churn_df.Churn == True].groupby('State').count()['Churn']"
      ],
      "execution_count": null,
      "outputs": [
        {
          "output_type": "stream",
          "text": [
            "14.553638409602401\n",
            "388\n"
          ],
          "name": "stdout"
        },
        {
          "output_type": "execute_result",
          "data": {
            "text/plain": [
              "State\n",
              "AK     3\n",
              "AL     7\n",
              "AR    11\n",
              "AZ     3\n",
              "CA     5\n",
              "CO     7\n",
              "CT    11\n",
              "DC     5\n",
              "DE     8\n",
              "FL     7\n",
              "GA     8\n",
              "HI     2\n",
              "IA     3\n",
              "ID     5\n",
              "IL     4\n",
              "IN     6\n",
              "KS    10\n",
              "KY     6\n",
              "LA     3\n",
              "MA     8\n",
              "MD    14\n",
              "ME    11\n",
              "MI    13\n",
              "MN    13\n",
              "MO     5\n",
              "MS    11\n",
              "MT    10\n",
              "NC     9\n",
              "ND     4\n",
              "NE     4\n",
              "NH     9\n",
              "NJ    14\n",
              "NM     4\n",
              "NV    13\n",
              "NY    12\n",
              "OH    10\n",
              "OK     7\n",
              "OR     7\n",
              "PA     8\n",
              "RI     3\n",
              "SC    11\n",
              "SD     6\n",
              "TN     5\n",
              "TX    16\n",
              "UT     8\n",
              "VA     4\n",
              "VT     6\n",
              "WA    10\n",
              "WI     4\n",
              "WV     7\n",
              "WY     8\n",
              "Name: Churn, dtype: int64"
            ]
          },
          "metadata": {
            "tags": []
          },
          "execution_count": 81
        }
      ]
    },
    {
      "cell_type": "code",
      "metadata": {
        "id": "2Pu1i6FNSJyy",
        "colab_type": "code",
        "colab": {
          "base_uri": "https://localhost:8080/",
          "height": 623
        },
        "outputId": "33d3d247-84b5-4b80-9399-70ee189d46e5"
      },
      "source": [
        "_,axss = plt.subplots(4,3, figsize=[20,10])#People who answer True have higher \"Total day/eve/night/intl mins\" and \"Total day/eve/night/intl charges\"\n",
        "sns.boxplot(x = 'Churn',y='Total day minutes',data = churn_df,ax=axss[0][0])\n",
        "sns.boxplot(x = 'Churn',y='Total day calls',data = churn_df,ax=axss[0][1])\n",
        "sns.boxplot(x = 'Churn',y='Total day charge',data = churn_df,ax=axss[0][2])\n",
        "sns.boxplot(x = 'Churn',y='Total eve minutes',data = churn_df,ax=axss[1][0])\n",
        "sns.boxplot(x = 'Churn',y='Total eve calls',data = churn_df,ax=axss[1][1])\n",
        "sns.boxplot(x = 'Churn',y='Total eve charge',data = churn_df,ax=axss[1][2])\n",
        "sns.boxplot(x = 'Churn',y='Total night minutes',data = churn_df,ax=axss[2][0])\n",
        "sns.boxplot(x = 'Churn',y='Total night calls',data = churn_df,ax=axss[2][1])\n",
        "sns.boxplot(x = 'Churn',y='Total night charge',data = churn_df,ax=axss[2][2])\n",
        "sns.boxplot(x = 'Churn',y='Total intl minutes',data = churn_df,ax=axss[3][0])\n",
        "sns.boxplot(x = 'Churn',y='Total intl calls',data = churn_df,ax=axss[3][1])\n",
        "sns.boxplot(x = 'Churn',y='Total intl charge',data = churn_df,ax=axss[3][2])"
      ],
      "execution_count": null,
      "outputs": [
        {
          "output_type": "execute_result",
          "data": {
            "text/plain": [
              "<matplotlib.axes._subplots.AxesSubplot at 0x7f56b007be80>"
            ]
          },
          "metadata": {
            "tags": []
          },
          "execution_count": 36
        },
        {
          "output_type": "display_data",
          "data": {
            "image/png": "[encoded data removed]",
            "text/plain": [
              "<Figure size 1440x720 with 12 Axes>"
            ]
          },
          "metadata": {
            "tags": [],
            "needs_background": "light"
          }
        }
      ]
    },
    {
      "cell_type": "code",
      "metadata": {
        "id": "NyyTQqGVZ_NL",
        "colab_type": "code",
        "colab": {
          "base_uri": "https://localhost:8080/",
          "height": 623
        },
        "outputId": "481ebc89-af9b-4052-8329-dd993f5e7ef1"
      },
      "source": [
        "#understand categorical graph: State, International plan, Voice mail plan\n",
        "_,axss = plt.subplots(1,2,figsize = [20,10])\n",
        "#sns.countplot(x = 'Churn',hue='State',data = churn_df,ax=axss[0][0])\n",
        "sns.countplot(x='Churn',hue='International plan',data = churn_df,ax=axss[0])\n",
        "sns.countplot(x = 'Churn',hue='Voice mail plan',data = churn_df, ax=axss[1])"
      ],
      "execution_count": null,
      "outputs": [
        {
          "output_type": "execute_result",
          "data": {
            "text/plain": [
              "<matplotlib.axes._subplots.AxesSubplot at 0x7f56b064cf60>"
            ]
          },
          "metadata": {
            "tags": []
          },
          "execution_count": 60
        },
        {
          "output_type": "display_data",
          "data": {
            "image/png": "[encoded data removed]",
            "text/plain": [
              "<Figure size 1440x720 with 2 Axes>"
            ]
          },
          "metadata": {
            "tags": [],
            "needs_background": "light"
          }
        }
      ]
    },
    {
      "cell_type": "code",
      "metadata": {
        "id": "MiKbupzudeY3",
        "colab_type": "code",
        "colab": {
          "base_uri": "https://localhost:8080/",
          "height": 997
        },
        "outputId": "ef05957d-7d52-4fd6-8dc1-7fb585d8c3af"
      },
      "source": [
        "#Correlation between each variable\n",
        "corr_score=churn_df.loc[:,'Total day minutes':'Total intl charge'].corr()\n",
        "sns.heatmap(corr_score)\n",
        "corr_score#we find minutes variable has a perfect positive correlation with charges variable\n"
      ],
      "execution_count": null,
      "outputs": [
        {
          "output_type": "execute_result",
          "data": {
            "text/html": [
              "<div>\n",
              "<style scoped>\n",
              "    .dataframe tbody tr th:only-of-type {\n",
              "        vertical-align: middle;\n",
              "    }\n",
              "\n",
              "    .dataframe tbody tr th {\n",
              "        vertical-align: top;\n",
              "    }\n",
              "\n",
              "    .dataframe thead th {\n",
              "        text-align: right;\n",
              "    }\n",
              "</style>\n",
              "<table border=\"1\" class=\"dataframe\">\n",
              "  <thead>\n",
              "    <tr style=\"text-align: right;\">\n",
              "      <th></th>\n",
              "      <th>Total day minutes</th>\n",
              "      <th>Total day calls</th>\n",
              "      <th>Total day charge</th>\n",
              "      <th>Total eve minutes</th>\n",
              "      <th>Total eve calls</th>\n",
              "      <th>Total eve charge</th>\n",
              "      <th>Total night minutes</th>\n",
              "      <th>Total night calls</th>\n",
              "      <th>Total night charge</th>\n",
              "      <th>Total intl minutes</th>\n",
              "      <th>Total intl calls</th>\n",
              "      <th>Total intl charge</th>\n",
              "    </tr>\n",
              "  </thead>\n",
              "  <tbody>\n",
              "    <tr>\n",
              "      <th>Total day minutes</th>\n",
              "      <td>1.000000</td>\n",
              "      <td>0.016780</td>\n",
              "      <td>1.000000</td>\n",
              "      <td>0.003999</td>\n",
              "      <td>0.009059</td>\n",
              "      <td>0.003992</td>\n",
              "      <td>0.013491</td>\n",
              "      <td>0.015054</td>\n",
              "      <td>0.013464</td>\n",
              "      <td>-0.011042</td>\n",
              "      <td>0.005687</td>\n",
              "      <td>-0.010934</td>\n",
              "    </tr>\n",
              "    <tr>\n",
              "      <th>Total day calls</th>\n",
              "      <td>0.016780</td>\n",
              "      <td>1.000000</td>\n",
              "      <td>0.016787</td>\n",
              "      <td>-0.026003</td>\n",
              "      <td>0.006473</td>\n",
              "      <td>-0.026006</td>\n",
              "      <td>0.008986</td>\n",
              "      <td>-0.016776</td>\n",
              "      <td>0.008972</td>\n",
              "      <td>0.031036</td>\n",
              "      <td>0.006928</td>\n",
              "      <td>0.031133</td>\n",
              "    </tr>\n",
              "    <tr>\n",
              "      <th>Total day charge</th>\n",
              "      <td>1.000000</td>\n",
              "      <td>0.016787</td>\n",
              "      <td>1.000000</td>\n",
              "      <td>0.004008</td>\n",
              "      <td>0.009056</td>\n",
              "      <td>0.004002</td>\n",
              "      <td>0.013495</td>\n",
              "      <td>0.015057</td>\n",
              "      <td>0.013468</td>\n",
              "      <td>-0.011046</td>\n",
              "      <td>0.005688</td>\n",
              "      <td>-0.010938</td>\n",
              "    </tr>\n",
              "    <tr>\n",
              "      <th>Total eve minutes</th>\n",
              "      <td>0.003999</td>\n",
              "      <td>-0.026003</td>\n",
              "      <td>0.004008</td>\n",
              "      <td>1.000000</td>\n",
              "      <td>-0.007654</td>\n",
              "      <td>1.000000</td>\n",
              "      <td>-0.013414</td>\n",
              "      <td>0.009017</td>\n",
              "      <td>-0.013450</td>\n",
              "      <td>-0.006915</td>\n",
              "      <td>0.002160</td>\n",
              "      <td>-0.006947</td>\n",
              "    </tr>\n",
              "    <tr>\n",
              "      <th>Total eve calls</th>\n",
              "      <td>0.009059</td>\n",
              "      <td>0.006473</td>\n",
              "      <td>0.009056</td>\n",
              "      <td>-0.007654</td>\n",
              "      <td>1.000000</td>\n",
              "      <td>-0.007642</td>\n",
              "      <td>-0.000175</td>\n",
              "      <td>0.000797</td>\n",
              "      <td>-0.000135</td>\n",
              "      <td>0.011012</td>\n",
              "      <td>0.003710</td>\n",
              "      <td>0.011000</td>\n",
              "    </tr>\n",
              "    <tr>\n",
              "      <th>Total eve charge</th>\n",
              "      <td>0.003992</td>\n",
              "      <td>-0.026006</td>\n",
              "      <td>0.004002</td>\n",
              "      <td>1.000000</td>\n",
              "      <td>-0.007642</td>\n",
              "      <td>1.000000</td>\n",
              "      <td>-0.013428</td>\n",
              "      <td>0.009030</td>\n",
              "      <td>-0.013464</td>\n",
              "      <td>-0.006923</td>\n",
              "      <td>0.002169</td>\n",
              "      <td>-0.006955</td>\n",
              "    </tr>\n",
              "    <tr>\n",
              "      <th>Total night minutes</th>\n",
              "      <td>0.013491</td>\n",
              "      <td>0.008986</td>\n",
              "      <td>0.013495</td>\n",
              "      <td>-0.013414</td>\n",
              "      <td>-0.000175</td>\n",
              "      <td>-0.013428</td>\n",
              "      <td>1.000000</td>\n",
              "      <td>0.012736</td>\n",
              "      <td>0.999999</td>\n",
              "      <td>-0.008607</td>\n",
              "      <td>-0.001110</td>\n",
              "      <td>-0.008510</td>\n",
              "    </tr>\n",
              "    <tr>\n",
              "      <th>Total night calls</th>\n",
              "      <td>0.015054</td>\n",
              "      <td>-0.016776</td>\n",
              "      <td>0.015057</td>\n",
              "      <td>0.009017</td>\n",
              "      <td>0.000797</td>\n",
              "      <td>0.009030</td>\n",
              "      <td>0.012736</td>\n",
              "      <td>1.000000</td>\n",
              "      <td>0.012720</td>\n",
              "      <td>-0.023447</td>\n",
              "      <td>0.019367</td>\n",
              "      <td>-0.023434</td>\n",
              "    </tr>\n",
              "    <tr>\n",
              "      <th>Total night charge</th>\n",
              "      <td>0.013464</td>\n",
              "      <td>0.008972</td>\n",
              "      <td>0.013468</td>\n",
              "      <td>-0.013450</td>\n",
              "      <td>-0.000135</td>\n",
              "      <td>-0.013464</td>\n",
              "      <td>0.999999</td>\n",
              "      <td>0.012720</td>\n",
              "      <td>1.000000</td>\n",
              "      <td>-0.008615</td>\n",
              "      <td>-0.001099</td>\n",
              "      <td>-0.008517</td>\n",
              "    </tr>\n",
              "    <tr>\n",
              "      <th>Total intl minutes</th>\n",
              "      <td>-0.011042</td>\n",
              "      <td>0.031036</td>\n",
              "      <td>-0.011046</td>\n",
              "      <td>-0.006915</td>\n",
              "      <td>0.011012</td>\n",
              "      <td>-0.006923</td>\n",
              "      <td>-0.008607</td>\n",
              "      <td>-0.023447</td>\n",
              "      <td>-0.008615</td>\n",
              "      <td>1.000000</td>\n",
              "      <td>0.037315</td>\n",
              "      <td>0.999993</td>\n",
              "    </tr>\n",
              "    <tr>\n",
              "      <th>Total intl calls</th>\n",
              "      <td>0.005687</td>\n",
              "      <td>0.006928</td>\n",
              "      <td>0.005688</td>\n",
              "      <td>0.002160</td>\n",
              "      <td>0.003710</td>\n",
              "      <td>0.002169</td>\n",
              "      <td>-0.001110</td>\n",
              "      <td>0.019367</td>\n",
              "      <td>-0.001099</td>\n",
              "      <td>0.037315</td>\n",
              "      <td>1.000000</td>\n",
              "      <td>0.037363</td>\n",
              "    </tr>\n",
              "    <tr>\n",
              "      <th>Total intl charge</th>\n",
              "      <td>-0.010934</td>\n",
              "      <td>0.031133</td>\n",
              "      <td>-0.010938</td>\n",
              "      <td>-0.006947</td>\n",
              "      <td>0.011000</td>\n",
              "      <td>-0.006955</td>\n",
              "      <td>-0.008510</td>\n",
              "      <td>-0.023434</td>\n",
              "      <td>-0.008517</td>\n",
              "      <td>0.999993</td>\n",
              "      <td>0.037363</td>\n",
              "      <td>1.000000</td>\n",
              "    </tr>\n",
              "  </tbody>\n",
              "</table>\n",
              "</div>"
            ],
            "text/plain": [
              "                     Total day minutes  ...  Total intl charge\n",
              "Total day minutes             1.000000  ...          -0.010934\n",
              "Total day calls               0.016780  ...           0.031133\n",
              "Total day charge              1.000000  ...          -0.010938\n",
              "Total eve minutes             0.003999  ...          -0.006947\n",
              "Total eve calls               0.009059  ...           0.011000\n",
              "Total eve charge              0.003992  ...          -0.006955\n",
              "Total night minutes           0.013491  ...          -0.008510\n",
              "Total night calls             0.015054  ...          -0.023434\n",
              "Total night charge            0.013464  ...          -0.008517\n",
              "Total intl minutes           -0.011042  ...           0.999993\n",
              "Total intl calls              0.005687  ...           0.037363\n",
              "Total intl charge            -0.010934  ...           1.000000\n",
              "\n",
              "[12 rows x 12 columns]"
            ]
          },
          "metadata": {
            "tags": []
          },
          "execution_count": 92
        },
        {
          "output_type": "display_data",
          "data": {
            "image/png": "[encoded data removed]",
            "text/plain": [
              "<Figure size 432x288 with 2 Axes>"
            ]
          },
          "metadata": {
            "tags": [],
            "needs_background": "light"
          }
        }
      ]
    },
    {
      "cell_type": "code",
      "metadata": {
        "id": "UV_sxjoPqpld",
        "colab_type": "code",
        "colab": {
          "base_uri": "https://localhost:8080/",
          "height": 71
        },
        "outputId": "97ee3fe8-b0b2-4b73-8b04-90bc75ab36fc"
      },
      "source": [
        "#Feature reprocess\n",
        "churn_df['International plan'] = churn_df['International plan'] == \"Yes\"\n",
        "churn_df['Voice mail plan'] = churn_df['Voice mail plan'] == \"Yes\"\n"
      ],
      "execution_count": null,
      "outputs": [
        {
          "output_type": "stream",
          "text": [
            "/usr/local/lib/python3.6/dist-packages/pandas/core/ops/array_ops.py:253: FutureWarning: elementwise comparison failed; returning scalar instead, but in the future will perform elementwise comparison\n",
            "  res_values = method(rvalues)\n"
          ],
          "name": "stderr"
        }
      ]
    }
  ]
}